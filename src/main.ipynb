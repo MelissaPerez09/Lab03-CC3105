{
  "cells": [
    {
      "cell_type": "markdown",
      "metadata": {},
      "source": [
        "## Laboratorio 3 - MLflow y Feast\n",
        "\n",
        "- Sebastián Silva\n",
        "- Melissa Pérez"
      ]
    },
    {
      "cell_type": "code",
      "execution_count": 1,
      "id": "75dbdc07",
      "metadata": {
        "execution": {
          "iopub.execute_input": "2025-10-19T23:06:29.986454Z",
          "iopub.status.busy": "2025-10-19T23:06:29.986207Z",
          "iopub.status.idle": "2025-10-19T23:06:35.651979Z",
          "shell.execute_reply": "2025-10-19T23:06:35.651123Z"
        }
      },
      "outputs": [],
      "source": [
        "from sklearn.datasets import fetch_california_housing\n",
        "from sklearn.model_selection import train_test_split\n",
        "import matplotlib.pyplot as plt\n",
        "import seaborn as sns\n",
        "import pandas as pd\n",
        "import numpy as np\n",
        "import mlflow\n",
        "import feast"
      ]
    },
    {
      "cell_type": "markdown",
      "id": "bdf09993",
      "metadata": {},
      "source": [
        "### Ejercicio 1 - Configuración del Entorno"
      ]
    },
    {
      "cell_type": "code",
      "execution_count": 2,
      "id": "eaf8701d",
      "metadata": {
        "execution": {
          "iopub.execute_input": "2025-10-19T23:06:35.655486Z",
          "iopub.status.busy": "2025-10-19T23:06:35.654730Z",
          "iopub.status.idle": "2025-10-19T23:06:35.661072Z",
          "shell.execute_reply": "2025-10-19T23:06:35.660152Z"
        }
      },
      "outputs": [
        {
          "name": "stdout",
          "output_type": "stream",
          "text": [
            "MLflow está instalado. Versión: 3.1.4\n",
            "Feast está instalado. Versión: 0.49.0\n"
          ]
        }
      ],
      "source": [
        "def get_version(module, display_name):\n",
        "    ver = getattr(module, \"__version__\", None)\n",
        "    if ver is None:\n",
        "        print(f\"[ADVERTENCIA] No se pudo determinar la versión de {display_name} mediante __version__.\")\n",
        "        return \"desconocida\"\n",
        "    return ver\n",
        "\n",
        "all_ok = True\n",
        "\n",
        "try:\n",
        "    import mlflow as _mlflow\n",
        "    print(f\"MLflow está instalado. Versión: {get_version(_mlflow, 'MLflow')}\")\n",
        "except Exception as e:\n",
        "    print(f\"[ERROR] Al importar MLflow: {e}\")\n",
        "    all_ok = False\n",
        "\n",
        "try:\n",
        "    import feast as _feast\n",
        "    print(f\"Feast está instalado. Versión: {get_version(_feast, 'Feast')}\")\n",
        "except Exception as e:\n",
        "    print(f\"[ERROR] Al importar Feast: {e}\")\n",
        "    all_ok = False"
      ]
    },
    {
      "cell_type": "markdown",
      "id": "1e92c640",
      "metadata": {},
      "source": [
        "### Ejercicio 2 - Carga y Exploración de Datos"
      ]
    },
    {
      "cell_type": "code",
      "execution_count": 3,
      "id": "8f03ee59",
      "metadata": {
        "execution": {
          "iopub.execute_input": "2025-10-19T23:06:35.663801Z",
          "iopub.status.busy": "2025-10-19T23:06:35.663275Z",
          "iopub.status.idle": "2025-10-19T23:06:35.700031Z",
          "shell.execute_reply": "2025-10-19T23:06:35.698900Z"
        }
      },
      "outputs": [],
      "source": [
        "cal_housing = fetch_california_housing(as_frame=True)\n",
        "df = cal_housing.frame.copy()"
      ]
    },
    {
      "cell_type": "code",
      "execution_count": 4,
      "id": "f46f13a5",
      "metadata": {
        "execution": {
          "iopub.execute_input": "2025-10-19T23:06:35.703130Z",
          "iopub.status.busy": "2025-10-19T23:06:35.702282Z",
          "iopub.status.idle": "2025-10-19T23:06:35.717706Z",
          "shell.execute_reply": "2025-10-19T23:06:35.716473Z"
        }
      },
      "outputs": [
        {
          "name": "stdout",
          "output_type": "stream",
          "text": [
            "<class 'pandas.core.frame.DataFrame'>\n",
            "RangeIndex: 20640 entries, 0 to 20639\n",
            "Data columns (total 9 columns):\n",
            " #   Column       Non-Null Count  Dtype  \n",
            "---  ------       --------------  -----  \n",
            " 0   MedInc       20640 non-null  float64\n",
            " 1   HouseAge     20640 non-null  float64\n",
            " 2   AveRooms     20640 non-null  float64\n",
            " 3   AveBedrms    20640 non-null  float64\n",
            " 4   Population   20640 non-null  float64\n",
            " 5   AveOccup     20640 non-null  float64\n",
            " 6   Latitude     20640 non-null  float64\n",
            " 7   Longitude    20640 non-null  float64\n",
            " 8   MedHouseVal  20640 non-null  float64\n",
            "dtypes: float64(9)\n",
            "memory usage: 1.4 MB\n"
          ]
        }
      ],
      "source": [
        "df.info()"
      ]
    },
    {
      "cell_type": "code",
      "execution_count": 5,
      "id": "06574aef",
      "metadata": {
        "execution": {
          "iopub.execute_input": "2025-10-19T23:06:35.719733Z",
          "iopub.status.busy": "2025-10-19T23:06:35.719507Z",
          "iopub.status.idle": "2025-10-19T23:06:35.723763Z",
          "shell.execute_reply": "2025-10-19T23:06:35.723128Z"
        }
      },
      "outputs": [],
      "source": [
        "df.rename(columns={\"MedInc\": \"median_income\", \n",
        "                   \"HouseAge\": \"house_age\", \n",
        "                   \"AveRooms\": \"average_rooms\", \n",
        "                   \"AveOccup\": \"average_occupants\",\n",
        "                   \"Latitude\": \"latitude\",\n",
        "                   \"Longitude\": \"longitude\",\n",
        "                   \"MedHouseVal\": \"median_house_value\"}, inplace=True)"
      ]
    },
    {
      "cell_type": "code",
      "execution_count": 6,
      "id": "a38f5a24",
      "metadata": {
        "execution": {
          "iopub.execute_input": "2025-10-19T23:06:35.726850Z",
          "iopub.status.busy": "2025-10-19T23:06:35.726407Z",
          "iopub.status.idle": "2025-10-19T23:06:35.742146Z",
          "shell.execute_reply": "2025-10-19T23:06:35.741332Z"
        }
      },
      "outputs": [
        {
          "data": {
            "text/html": [
              "<div>\n",
              "<style scoped>\n",
              "    .dataframe tbody tr th:only-of-type {\n",
              "        vertical-align: middle;\n",
              "    }\n",
              "\n",
              "    .dataframe tbody tr th {\n",
              "        vertical-align: top;\n",
              "    }\n",
              "\n",
              "    .dataframe thead th {\n",
              "        text-align: right;\n",
              "    }\n",
              "</style>\n",
              "<table border=\"1\" class=\"dataframe\">\n",
              "  <thead>\n",
              "    <tr style=\"text-align: right;\">\n",
              "      <th></th>\n",
              "      <th>median_income</th>\n",
              "      <th>house_age</th>\n",
              "      <th>average_rooms</th>\n",
              "      <th>AveBedrms</th>\n",
              "      <th>Population</th>\n",
              "      <th>average_occupants</th>\n",
              "      <th>latitude</th>\n",
              "      <th>longitude</th>\n",
              "      <th>median_house_value</th>\n",
              "    </tr>\n",
              "  </thead>\n",
              "  <tbody>\n",
              "    <tr>\n",
              "      <th>0</th>\n",
              "      <td>8.3252</td>\n",
              "      <td>41.0</td>\n",
              "      <td>6.984127</td>\n",
              "      <td>1.023810</td>\n",
              "      <td>322.0</td>\n",
              "      <td>2.555556</td>\n",
              "      <td>37.88</td>\n",
              "      <td>-122.23</td>\n",
              "      <td>4.526</td>\n",
              "    </tr>\n",
              "    <tr>\n",
              "      <th>1</th>\n",
              "      <td>8.3014</td>\n",
              "      <td>21.0</td>\n",
              "      <td>6.238137</td>\n",
              "      <td>0.971880</td>\n",
              "      <td>2401.0</td>\n",
              "      <td>2.109842</td>\n",
              "      <td>37.86</td>\n",
              "      <td>-122.22</td>\n",
              "      <td>3.585</td>\n",
              "    </tr>\n",
              "    <tr>\n",
              "      <th>2</th>\n",
              "      <td>7.2574</td>\n",
              "      <td>52.0</td>\n",
              "      <td>8.288136</td>\n",
              "      <td>1.073446</td>\n",
              "      <td>496.0</td>\n",
              "      <td>2.802260</td>\n",
              "      <td>37.85</td>\n",
              "      <td>-122.24</td>\n",
              "      <td>3.521</td>\n",
              "    </tr>\n",
              "    <tr>\n",
              "      <th>3</th>\n",
              "      <td>5.6431</td>\n",
              "      <td>52.0</td>\n",
              "      <td>5.817352</td>\n",
              "      <td>1.073059</td>\n",
              "      <td>558.0</td>\n",
              "      <td>2.547945</td>\n",
              "      <td>37.85</td>\n",
              "      <td>-122.25</td>\n",
              "      <td>3.413</td>\n",
              "    </tr>\n",
              "    <tr>\n",
              "      <th>4</th>\n",
              "      <td>3.8462</td>\n",
              "      <td>52.0</td>\n",
              "      <td>6.281853</td>\n",
              "      <td>1.081081</td>\n",
              "      <td>565.0</td>\n",
              "      <td>2.181467</td>\n",
              "      <td>37.85</td>\n",
              "      <td>-122.25</td>\n",
              "      <td>3.422</td>\n",
              "    </tr>\n",
              "  </tbody>\n",
              "</table>\n",
              "</div>"
            ],
            "text/plain": [
              "   median_income  house_age  average_rooms  AveBedrms  Population  \\\n",
              "0         8.3252       41.0       6.984127   1.023810       322.0   \n",
              "1         8.3014       21.0       6.238137   0.971880      2401.0   \n",
              "2         7.2574       52.0       8.288136   1.073446       496.0   \n",
              "3         5.6431       52.0       5.817352   1.073059       558.0   \n",
              "4         3.8462       52.0       6.281853   1.081081       565.0   \n",
              "\n",
              "   average_occupants  latitude  longitude  median_house_value  \n",
              "0           2.555556     37.88    -122.23               4.526  \n",
              "1           2.109842     37.86    -122.22               3.585  \n",
              "2           2.802260     37.85    -122.24               3.521  \n",
              "3           2.547945     37.85    -122.25               3.413  \n",
              "4           2.181467     37.85    -122.25               3.422  "
            ]
          },
          "execution_count": 6,
          "metadata": {},
          "output_type": "execute_result"
        }
      ],
      "source": [
        "df.head()"
      ]
    },
    {
      "cell_type": "code",
      "execution_count": 7,
      "id": "95d80c16",
      "metadata": {
        "execution": {
          "iopub.execute_input": "2025-10-19T23:06:35.744447Z",
          "iopub.status.busy": "2025-10-19T23:06:35.744196Z",
          "iopub.status.idle": "2025-10-19T23:06:35.749550Z",
          "shell.execute_reply": "2025-10-19T23:06:35.748305Z"
        }
      },
      "outputs": [
        {
          "name": "stdout",
          "output_type": "stream",
          "text": [
            "Shape: (20640, 9)\n",
            "\n",
            "Tipos de datos:\n",
            "median_income         float64\n",
            "house_age             float64\n",
            "average_rooms         float64\n",
            "AveBedrms             float64\n",
            "Population            float64\n",
            "average_occupants     float64\n",
            "latitude              float64\n",
            "longitude             float64\n",
            "median_house_value    float64\n",
            "dtype: object\n"
          ]
        }
      ],
      "source": [
        "print(f\"Shape: {df.shape}\")\n",
        "print(\"\\nTipos de datos:\")\n",
        "print(df.dtypes)"
      ]
    },
    {
      "cell_type": "markdown",
      "id": "8e5c0d37",
      "metadata": {},
      "source": [
        "#### Análisis Exploratorio de Datos"
      ]
    },
    {
      "cell_type": "code",
      "execution_count": 8,
      "id": "daaf66b3",
      "metadata": {
        "execution": {
          "iopub.execute_input": "2025-10-19T23:06:35.751833Z",
          "iopub.status.busy": "2025-10-19T23:06:35.751567Z",
          "iopub.status.idle": "2025-10-19T23:06:35.777987Z",
          "shell.execute_reply": "2025-10-19T23:06:35.777364Z"
        }
      },
      "outputs": [
        {
          "name": "stdout",
          "output_type": "stream",
          "text": [
            "Estadísticas descriptivas del dataset:\n"
          ]
        },
        {
          "data": {
            "text/html": [
              "<div>\n",
              "<style scoped>\n",
              "    .dataframe tbody tr th:only-of-type {\n",
              "        vertical-align: middle;\n",
              "    }\n",
              "\n",
              "    .dataframe tbody tr th {\n",
              "        vertical-align: top;\n",
              "    }\n",
              "\n",
              "    .dataframe thead th {\n",
              "        text-align: right;\n",
              "    }\n",
              "</style>\n",
              "<table border=\"1\" class=\"dataframe\">\n",
              "  <thead>\n",
              "    <tr style=\"text-align: right;\">\n",
              "      <th></th>\n",
              "      <th>count</th>\n",
              "      <th>mean</th>\n",
              "      <th>std</th>\n",
              "      <th>min</th>\n",
              "      <th>25%</th>\n",
              "      <th>50%</th>\n",
              "      <th>75%</th>\n",
              "      <th>max</th>\n",
              "    </tr>\n",
              "  </thead>\n",
              "  <tbody>\n",
              "    <tr>\n",
              "      <th>median_income</th>\n",
              "      <td>20640.0</td>\n",
              "      <td>3.870671</td>\n",
              "      <td>1.899822</td>\n",
              "      <td>0.499900</td>\n",
              "      <td>2.563400</td>\n",
              "      <td>3.534800</td>\n",
              "      <td>4.743250</td>\n",
              "      <td>15.000100</td>\n",
              "    </tr>\n",
              "    <tr>\n",
              "      <th>house_age</th>\n",
              "      <td>20640.0</td>\n",
              "      <td>28.639486</td>\n",
              "      <td>12.585558</td>\n",
              "      <td>1.000000</td>\n",
              "      <td>18.000000</td>\n",
              "      <td>29.000000</td>\n",
              "      <td>37.000000</td>\n",
              "      <td>52.000000</td>\n",
              "    </tr>\n",
              "    <tr>\n",
              "      <th>average_rooms</th>\n",
              "      <td>20640.0</td>\n",
              "      <td>5.429000</td>\n",
              "      <td>2.474173</td>\n",
              "      <td>0.846154</td>\n",
              "      <td>4.440716</td>\n",
              "      <td>5.229129</td>\n",
              "      <td>6.052381</td>\n",
              "      <td>141.909091</td>\n",
              "    </tr>\n",
              "    <tr>\n",
              "      <th>AveBedrms</th>\n",
              "      <td>20640.0</td>\n",
              "      <td>1.096675</td>\n",
              "      <td>0.473911</td>\n",
              "      <td>0.333333</td>\n",
              "      <td>1.006079</td>\n",
              "      <td>1.048780</td>\n",
              "      <td>1.099526</td>\n",
              "      <td>34.066667</td>\n",
              "    </tr>\n",
              "    <tr>\n",
              "      <th>Population</th>\n",
              "      <td>20640.0</td>\n",
              "      <td>1425.476744</td>\n",
              "      <td>1132.462122</td>\n",
              "      <td>3.000000</td>\n",
              "      <td>787.000000</td>\n",
              "      <td>1166.000000</td>\n",
              "      <td>1725.000000</td>\n",
              "      <td>35682.000000</td>\n",
              "    </tr>\n",
              "    <tr>\n",
              "      <th>average_occupants</th>\n",
              "      <td>20640.0</td>\n",
              "      <td>3.070655</td>\n",
              "      <td>10.386050</td>\n",
              "      <td>0.692308</td>\n",
              "      <td>2.429741</td>\n",
              "      <td>2.818116</td>\n",
              "      <td>3.282261</td>\n",
              "      <td>1243.333333</td>\n",
              "    </tr>\n",
              "    <tr>\n",
              "      <th>latitude</th>\n",
              "      <td>20640.0</td>\n",
              "      <td>35.631861</td>\n",
              "      <td>2.135952</td>\n",
              "      <td>32.540000</td>\n",
              "      <td>33.930000</td>\n",
              "      <td>34.260000</td>\n",
              "      <td>37.710000</td>\n",
              "      <td>41.950000</td>\n",
              "    </tr>\n",
              "    <tr>\n",
              "      <th>longitude</th>\n",
              "      <td>20640.0</td>\n",
              "      <td>-119.569704</td>\n",
              "      <td>2.003532</td>\n",
              "      <td>-124.350000</td>\n",
              "      <td>-121.800000</td>\n",
              "      <td>-118.490000</td>\n",
              "      <td>-118.010000</td>\n",
              "      <td>-114.310000</td>\n",
              "    </tr>\n",
              "    <tr>\n",
              "      <th>median_house_value</th>\n",
              "      <td>20640.0</td>\n",
              "      <td>2.068558</td>\n",
              "      <td>1.153956</td>\n",
              "      <td>0.149990</td>\n",
              "      <td>1.196000</td>\n",
              "      <td>1.797000</td>\n",
              "      <td>2.647250</td>\n",
              "      <td>5.000010</td>\n",
              "    </tr>\n",
              "  </tbody>\n",
              "</table>\n",
              "</div>"
            ],
            "text/plain": [
              "                      count         mean          std         min         25%  \\\n",
              "median_income       20640.0     3.870671     1.899822    0.499900    2.563400   \n",
              "house_age           20640.0    28.639486    12.585558    1.000000   18.000000   \n",
              "average_rooms       20640.0     5.429000     2.474173    0.846154    4.440716   \n",
              "AveBedrms           20640.0     1.096675     0.473911    0.333333    1.006079   \n",
              "Population          20640.0  1425.476744  1132.462122    3.000000  787.000000   \n",
              "average_occupants   20640.0     3.070655    10.386050    0.692308    2.429741   \n",
              "latitude            20640.0    35.631861     2.135952   32.540000   33.930000   \n",
              "longitude           20640.0  -119.569704     2.003532 -124.350000 -121.800000   \n",
              "median_house_value  20640.0     2.068558     1.153956    0.149990    1.196000   \n",
              "\n",
              "                            50%          75%           max  \n",
              "median_income          3.534800     4.743250     15.000100  \n",
              "house_age             29.000000    37.000000     52.000000  \n",
              "average_rooms          5.229129     6.052381    141.909091  \n",
              "AveBedrms              1.048780     1.099526     34.066667  \n",
              "Population          1166.000000  1725.000000  35682.000000  \n",
              "average_occupants      2.818116     3.282261   1243.333333  \n",
              "latitude              34.260000    37.710000     41.950000  \n",
              "longitude           -118.490000  -118.010000   -114.310000  \n",
              "median_house_value     1.797000     2.647250      5.000010  "
            ]
          },
          "metadata": {},
          "output_type": "display_data"
        }
      ],
      "source": [
        "print(\"Estadísticas descriptivas del dataset:\")\n",
        "display(df.describe().T)"
      ]
    },
    {
      "cell_type": "code",
      "execution_count": 9,
      "id": "61c1e50b",
      "metadata": {
        "execution": {
          "iopub.execute_input": "2025-10-19T23:06:35.780315Z",
          "iopub.status.busy": "2025-10-19T23:06:35.780100Z",
          "iopub.status.idle": "2025-10-19T23:06:35.788031Z",
          "shell.execute_reply": "2025-10-19T23:06:35.787362Z"
        }
      },
      "outputs": [
        {
          "name": "stdout",
          "output_type": "stream",
          "text": [
            "\n",
            "Estadísticas de la variable target (median_house_value):\n",
            "Media: 2.07\n",
            "Mediana: 1.80\n",
            "Desviación estándar: 1.15\n",
            "Mínimo: 0.15\n",
            "Máximo: 5.00\n"
          ]
        }
      ],
      "source": [
        "# Estadísticas adicionales del target\n",
        "print(f\"\\nEstadísticas de la variable target (median_house_value):\")\n",
        "print(f\"Media: {df['median_house_value'].mean():.2f}\")\n",
        "print(f\"Mediana: {df['median_house_value'].median():.2f}\")\n",
        "print(f\"Desviación estándar: {df['median_house_value'].std():.2f}\")\n",
        "print(f\"Mínimo: {df['median_house_value'].min():.2f}\")\n",
        "print(f\"Máximo: {df['median_house_value'].max():.2f}\")"
      ]
    },
    {
      "cell_type": "code",
      "execution_count": 10,
      "id": "9a7508cc",
      "metadata": {
        "execution": {
          "iopub.execute_input": "2025-10-19T23:06:35.790124Z",
          "iopub.status.busy": "2025-10-19T23:06:35.789864Z",
          "iopub.status.idle": "2025-10-19T23:06:35.795554Z",
          "shell.execute_reply": "2025-10-19T23:06:35.794785Z"
        }
      },
      "outputs": [
        {
          "name": "stdout",
          "output_type": "stream",
          "text": [
            "Valores faltantes por columna:\n",
            "median_income         0\n",
            "house_age             0\n",
            "average_rooms         0\n",
            "AveBedrms             0\n",
            "Population            0\n",
            "average_occupants     0\n",
            "latitude              0\n",
            "longitude             0\n",
            "median_house_value    0\n",
            "dtype: int64\n",
            "\n",
            "Total de valores faltantes: 0\n"
          ]
        }
      ],
      "source": [
        "# Identificación de valores faltantes\n",
        "missing_values = df.isnull().sum()\n",
        "print(\"Valores faltantes por columna:\")\n",
        "print(missing_values)\n",
        "print(f\"\\nTotal de valores faltantes: {missing_values.sum()}\")"
      ]
    },
    {
      "cell_type": "code",
      "execution_count": 11,
      "id": "0d77f7ef",
      "metadata": {
        "execution": {
          "iopub.execute_input": "2025-10-19T23:06:35.797770Z",
          "iopub.status.busy": "2025-10-19T23:06:35.797559Z",
          "iopub.status.idle": "2025-10-19T23:06:36.056706Z",
          "shell.execute_reply": "2025-10-19T23:06:36.055485Z"
        }
      },
      "outputs": [
        {
          "data": {
            "image/png": "[encoded data removed]",
            "text/plain": [
              "<Figure size 1000x500 with 1 Axes>"
            ]
          },
          "metadata": {},
          "output_type": "display_data"
        }
      ],
      "source": [
        "# Histograma - Distribución de la variable target\n",
        "plt.figure(figsize=(10, 5))\n",
        "plt.hist(df['median_house_value'], bins=50, edgecolor='black', alpha=0.7, color='skyblue')\n",
        "plt.xlabel('Precio Mediano de la Vivienda ($100,000s)')\n",
        "plt.ylabel('Frecuencia')\n",
        "plt.title('Distribución del Precio Mediano')\n",
        "plt.grid(alpha=0.3)\n",
        "plt.tight_layout()\n",
        "plt.show()"
      ]
    },
    {
      "cell_type": "code",
      "execution_count": 12,
      "id": "16a0eab1",
      "metadata": {
        "execution": {
          "iopub.execute_input": "2025-10-19T23:06:36.060575Z",
          "iopub.status.busy": "2025-10-19T23:06:36.060178Z",
          "iopub.status.idle": "2025-10-19T23:06:36.516068Z",
          "shell.execute_reply": "2025-10-19T23:06:36.515191Z"
        }
      },
      "outputs": [
        {
          "data": {
            "image/png": "[encoded data removed]",
            "text/plain": [
              "<Figure size 1000x800 with 2 Axes>"
            ]
          },
          "metadata": {},
          "output_type": "display_data"
        }
      ],
      "source": [
        "# Matriz de correlación entre variables\n",
        "correlation_matrix = df.corr()\n",
        "\n",
        "plt.figure(figsize=(10, 8))\n",
        "sns.heatmap(correlation_matrix, annot=True, fmt='.2f', cmap='coolwarm', \n",
        "            square=True, linewidths=0.5, cbar_kws={\"shrink\": 0.8})\n",
        "plt.title('Matriz de Correlación entre Variables', fontsize=14, fontweight='bold')\n",
        "plt.tight_layout()\n",
        "plt.show()"
      ]
    },
    {
      "cell_type": "markdown",
      "id": "ea40d26c",
      "metadata": {},
      "source": [
        "### Ejercicio 3 - Preparación de Datos"
      ]
    },
    {
      "cell_type": "code",
      "execution_count": 13,
      "id": "c1be2b0d",
      "metadata": {
        "execution": {
          "iopub.execute_input": "2025-10-19T23:06:36.518187Z",
          "iopub.status.busy": "2025-10-19T23:06:36.517941Z",
          "iopub.status.idle": "2025-10-19T23:06:36.528209Z",
          "shell.execute_reply": "2025-10-19T23:06:36.527620Z"
        }
      },
      "outputs": [],
      "source": [
        "# conjuntos de entrenamiento y prueba (80/20)\n",
        "X = df.drop(columns=['median_house_value'])\n",
        "y = df['median_house_value']\n",
        "\n",
        "X_train, X_test, y_train, y_test = train_test_split(\n",
        "    X, y, \n",
        "    test_size=0.2, \n",
        "    random_state=42\n",
        ")"
      ]
    },
    {
      "cell_type": "code",
      "execution_count": 14,
      "id": "f670f1a4",
      "metadata": {
        "execution": {
          "iopub.execute_input": "2025-10-19T23:06:36.531389Z",
          "iopub.status.busy": "2025-10-19T23:06:36.531175Z",
          "iopub.status.idle": "2025-10-19T23:06:36.537742Z",
          "shell.execute_reply": "2025-10-19T23:06:36.536575Z"
        }
      },
      "outputs": [],
      "source": [
        "# features derivadas en el conjunto de entrenamiento\n",
        "X_train['rooms_per_household'] = X_train['average_rooms'] / X_train['average_occupants']\n",
        "X_train['population_per_household'] = X_train['Population'] / X_train['AveBedrms']\n",
        "X_train['bedrooms_per_room'] = X_train['AveBedrms'] / X_train['average_rooms']\n"
      ]
    },
    {
      "cell_type": "code",
      "execution_count": 15,
      "id": "77baf7aa",
      "metadata": {
        "execution": {
          "iopub.execute_input": "2025-10-19T23:06:36.540781Z",
          "iopub.status.busy": "2025-10-19T23:06:36.539683Z",
          "iopub.status.idle": "2025-10-19T23:06:36.545437Z",
          "shell.execute_reply": "2025-10-19T23:06:36.544669Z"
        }
      },
      "outputs": [],
      "source": [
        "# features en el conjunto de prueba\n",
        "X_test['rooms_per_household'] = X_test['average_rooms'] / X_test['average_occupants']\n",
        "X_test['population_per_household'] = X_test['Population'] / X_test['AveBedrms']\n",
        "X_test['bedrooms_per_room'] = X_test['AveBedrms'] / X_test['average_rooms']"
      ]
    },
    {
      "cell_type": "code",
      "execution_count": 16,
      "id": "5dca101f",
      "metadata": {
        "execution": {
          "iopub.execute_input": "2025-10-19T23:06:36.547221Z",
          "iopub.status.busy": "2025-10-19T23:06:36.547010Z",
          "iopub.status.idle": "2025-10-19T23:06:36.555779Z",
          "shell.execute_reply": "2025-10-19T23:06:36.554764Z"
        }
      },
      "outputs": [
        {
          "data": {
            "text/html": [
              "<div>\n",
              "<style scoped>\n",
              "    .dataframe tbody tr th:only-of-type {\n",
              "        vertical-align: middle;\n",
              "    }\n",
              "\n",
              "    .dataframe tbody tr th {\n",
              "        vertical-align: top;\n",
              "    }\n",
              "\n",
              "    .dataframe thead th {\n",
              "        text-align: right;\n",
              "    }\n",
              "</style>\n",
              "<table border=\"1\" class=\"dataframe\">\n",
              "  <thead>\n",
              "    <tr style=\"text-align: right;\">\n",
              "      <th></th>\n",
              "      <th>rooms_per_household</th>\n",
              "      <th>population_per_household</th>\n",
              "      <th>bedrooms_per_room</th>\n",
              "    </tr>\n",
              "  </thead>\n",
              "  <tbody>\n",
              "    <tr>\n",
              "      <th>14196</th>\n",
              "      <td>1.359130</td>\n",
              "      <td>2285.326954</td>\n",
              "      <td>0.200576</td>\n",
              "    </tr>\n",
              "    <tr>\n",
              "      <th>8267</th>\n",
              "      <td>2.573820</td>\n",
              "      <td>1262.241423</td>\n",
              "      <td>0.232703</td>\n",
              "    </tr>\n",
              "    <tr>\n",
              "      <th>17445</th>\n",
              "      <td>2.073224</td>\n",
              "      <td>928.821752</td>\n",
              "      <td>0.174486</td>\n",
              "    </tr>\n",
              "    <tr>\n",
              "      <th>14265</th>\n",
              "      <td>1.002116</td>\n",
              "      <td>1371.634877</td>\n",
              "      <td>0.258269</td>\n",
              "    </tr>\n",
              "    <tr>\n",
              "      <th>2271</th>\n",
              "      <td>2.725400</td>\n",
              "      <td>770.580046</td>\n",
              "      <td>0.180940</td>\n",
              "    </tr>\n",
              "  </tbody>\n",
              "</table>\n",
              "</div>"
            ],
            "text/plain": [
              "       rooms_per_household  population_per_household  bedrooms_per_room\n",
              "14196             1.359130               2285.326954           0.200576\n",
              "8267              2.573820               1262.241423           0.232703\n",
              "17445             2.073224                928.821752           0.174486\n",
              "14265             1.002116               1371.634877           0.258269\n",
              "2271              2.725400                770.580046           0.180940"
            ]
          },
          "metadata": {},
          "output_type": "display_data"
        }
      ],
      "source": [
        "display(X_train[['rooms_per_household', 'population_per_household', 'bedrooms_per_room']].head())"
      ]
    },
    {
      "cell_type": "markdown",
      "id": "bf1cca4d",
      "metadata": {},
      "source": [
        "# Ejercicio 4"
      ]
    },
    {
      "cell_type": "code",
      "execution_count": 17,
      "id": "d3a9aa81",
      "metadata": {
        "execution": {
          "iopub.execute_input": "2025-10-19T23:06:36.559485Z",
          "iopub.status.busy": "2025-10-19T23:06:36.558470Z",
          "iopub.status.idle": "2025-10-19T23:06:36.576792Z",
          "shell.execute_reply": "2025-10-19T23:06:36.575413Z"
        }
      },
      "outputs": [
        {
          "name": "stdout",
          "output_type": "stream",
          "text": [
            "Experimento 'california-housing-prediction' ya existe con ID: 770921580831769508\n",
            "Experimento activo configurado: california-housing-prediction\n"
          ]
        }
      ],
      "source": [
        "mlflow.set_tracking_uri(\"file:./mlruns\")\n",
        "\n",
        "experiment_name = \"california-housing-prediction\"\n",
        "\n",
        "try:\n",
        "    experiment = mlflow.get_experiment_by_name(experiment_name)\n",
        "    if experiment is None:\n",
        "        experiment_id = mlflow.create_experiment(experiment_name)\n",
        "        print(f\"Experimento '{experiment_name}' creado con ID: {experiment_id}\")\n",
        "    else:\n",
        "        print(f\"Experimento '{experiment_name}' ya existe con ID: {experiment.experiment_id}\")\n",
        "        experiment_id = experiment.experiment_id\n",
        "except Exception as e:\n",
        "    print(f\"Error al crear/obtener el experimento: {e}\")\n",
        "    experiment_id = None\n",
        "\n",
        "if experiment_id:\n",
        "    mlflow.set_experiment(experiment_name)\n",
        "    print(f\"Experimento activo configurado: {experiment_name}\")\n",
        "else:\n",
        "    print(\"No se pudo configurar el experimento\")\n"
      ]
    },
    {
      "cell_type": "code",
      "execution_count": 18,
      "id": "87d9cc65",
      "metadata": {
        "execution": {
          "iopub.execute_input": "2025-10-19T23:06:36.579451Z",
          "iopub.status.busy": "2025-10-19T23:06:36.579213Z",
          "iopub.status.idle": "2025-10-19T23:06:36.756198Z",
          "shell.execute_reply": "2025-10-19T23:06:36.755451Z"
        }
      },
      "outputs": [],
      "source": [
        "from sklearn.linear_model import LinearRegression\n",
        "from sklearn.ensemble import RandomForestRegressor, GradientBoostingRegressor\n",
        "from sklearn.metrics import mean_squared_error, mean_absolute_error, r2_score\n",
        "import numpy as np"
      ]
    },
    {
      "cell_type": "code",
      "execution_count": 19,
      "id": "7a0e192f",
      "metadata": {
        "execution": {
          "iopub.execute_input": "2025-10-19T23:06:36.758741Z",
          "iopub.status.busy": "2025-10-19T23:06:36.758159Z",
          "iopub.status.idle": "2025-10-19T23:06:36.765268Z",
          "shell.execute_reply": "2025-10-19T23:06:36.764501Z"
        }
      },
      "outputs": [],
      "source": [
        "def train_and_log_model(model, model_name, X_train, X_test, y_train, y_test, **model_params):\n",
        "    \"\"\"\n",
        "    Función para entrenar un modelo y registrar métricas en MLflow\n",
        "    \"\"\"\n",
        "    with mlflow.start_run(run_name=model_name):\n",
        "        # Loggear parámetros del modelo\n",
        "        mlflow.log_params(model_params)\n",
        "        \n",
        "        # Entrenar el modelo\n",
        "        model.fit(X_train, y_train)\n",
        "        \n",
        "        # Realizar predicciones\n",
        "        y_pred_train = model.predict(X_train)\n",
        "        y_pred_test = model.predict(X_test)\n",
        "        \n",
        "        # Calcular métricas\n",
        "        rmse_train = np.sqrt(mean_squared_error(y_train, y_pred_train))\n",
        "        rmse_test = np.sqrt(mean_squared_error(y_test, y_pred_test))\n",
        "        \n",
        "        mae_train = mean_absolute_error(y_train, y_pred_train)\n",
        "        mae_test = mean_absolute_error(y_test, y_pred_test)\n",
        "        \n",
        "        r2_train = r2_score(y_train, y_pred_train)\n",
        "        r2_test = r2_score(y_test, y_pred_test)\n",
        "        \n",
        "        # Loggear métricas\n",
        "        mlflow.log_metric(\"rmse_train\", rmse_train)\n",
        "        mlflow.log_metric(\"rmse_test\", rmse_test)\n",
        "        mlflow.log_metric(\"mae_train\", mae_train)\n",
        "        mlflow.log_metric(\"mae_test\", mae_test)\n",
        "        mlflow.log_metric(\"r2_train\", r2_train)\n",
        "        mlflow.log_metric(\"r2_test\", r2_test)\n",
        "        \n",
        "        # Loggear el modelo con signature e input example (usando DataFrame)\n",
        "        mlflow.sklearn.log_model(\n",
        "            model, \n",
        "            \"model\",\n",
        "            input_example=X_test.iloc[:5],  # Usar DataFrame en lugar de .values\n",
        "            signature=mlflow.models.infer_signature(X_test, y_pred_test)\n",
        "        )\n",
        "        \n",
        "        print(f\"\\n=== {model_name} ===\")\n",
        "        print(f\"RMSE Train: {rmse_train:.4f}, Test: {rmse_test:.4f}\")\n",
        "        print(f\"MAE Train: {mae_train:.4f}, Test: {mae_test:.4f}\")\n",
        "        print(f\"R² Train: {r2_train:.4f}, Test: {r2_test:.4f}\")\n",
        "        \n",
        "        return model, {\n",
        "            'rmse_train': rmse_train, 'rmse_test': rmse_test,\n",
        "            'mae_train': mae_train, 'mae_test': mae_test,\n",
        "            'r2_train': r2_train, 'r2_test': r2_test\n",
        "        }\n"
      ]
    },
    {
      "cell_type": "code",
      "execution_count": 20,
      "id": "c0298ef1",
      "metadata": {
        "execution": {
          "iopub.execute_input": "2025-10-19T23:06:36.768557Z",
          "iopub.status.busy": "2025-10-19T23:06:36.767483Z",
          "iopub.status.idle": "2025-10-19T23:06:39.597902Z",
          "shell.execute_reply": "2025-10-19T23:06:40.459598Z"
        }
      },
      "outputs": [
        {
          "name": "stdout",
          "output_type": "stream",
          "text": [
            "\n",
            "1. Entrenando Regresión Lineal...\n"
          ]
        },
        {
          "name": "stderr",
          "output_type": "stream",
          "text": [
            "2025/10/19 17:26:15 WARNING mlflow.models.model: `artifact_path` is deprecated. Please use `name` instead.\n"
          ]
        },
        {
          "name": "stdout",
          "output_type": "stream",
          "text": [
            "\n",
            "=== Linear_Regression ===\n",
            "RMSE Train: 0.6729, Test: 0.6745\n",
            "MAE Train: 0.4817, Test: 0.4848\n",
            "R² Train: 0.6613, Test: 0.6528\n"
          ]
        }
      ],
      "source": [
        "print(\"\\n1. Entrenando Regresión Lineal...\")\n",
        "lr_model = LinearRegression()\n",
        "lr_model, lr_metrics = train_and_log_model(\n",
        "    lr_model, \n",
        "    \"Linear_Regression\",\n",
        "    X_train, X_test, y_train, y_test\n",
        ")"
      ]
    },
    {
      "cell_type": "code",
      "execution_count": 21,
      "id": "dd6c5135",
      "metadata": {
        "execution": {
          "iopub.execute_input": "2025-10-19T23:06:39.600784Z",
          "iopub.status.busy": "2025-10-19T23:06:39.600069Z",
          "iopub.status.idle": "2025-10-19T23:07:02.444223Z",
          "shell.execute_reply": "2025-10-19T23:07:02.443389Z"
        }
      },
      "outputs": [
        {
          "name": "stdout",
          "output_type": "stream",
          "text": [
            "\n",
            "2. Entrenando Random Forest Regressor...\n"
          ]
        },
        {
          "name": "stderr",
          "output_type": "stream",
          "text": [
            "2025/10/19 17:26:35 WARNING mlflow.models.model: `artifact_path` is deprecated. Please use `name` instead.\n"
          ]
        },
        {
          "name": "stdout",
          "output_type": "stream",
          "text": [
            "\n",
            "=== Random_Forest ===\n",
            "RMSE Train: 0.1889, Test: 0.5051\n",
            "MAE Train: 0.1225, Test: 0.3287\n",
            "R² Train: 0.9733, Test: 0.8053\n"
          ]
        }
      ],
      "source": [
        "print(\"\\n2. Entrenando Random Forest Regressor...\")\n",
        "rf_model = RandomForestRegressor(n_estimators=100, random_state=42)\n",
        "rf_model, rf_metrics = train_and_log_model(\n",
        "    rf_model,\n",
        "    \"Random_Forest\",\n",
        "    X_train, X_test, y_train, y_test,\n",
        "    n_estimators=100,\n",
        "    random_state=42\n",
        ")"
      ]
    },
    {
      "cell_type": "code",
      "execution_count": 22,
      "id": "61f38f72",
      "metadata": {
        "execution": {
          "iopub.execute_input": "2025-10-19T23:07:02.446619Z",
          "iopub.status.busy": "2025-10-19T23:07:02.446223Z",
          "iopub.status.idle": "2025-10-19T23:07:10.681653Z",
          "shell.execute_reply": "2025-10-19T23:07:10.680997Z"
        }
      },
      "outputs": [
        {
          "name": "stdout",
          "output_type": "stream",
          "text": [
            "\n",
            "3. Entrenando Gradient Boosting Regressor...\n"
          ]
        },
        {
          "name": "stderr",
          "output_type": "stream",
          "text": [
            "2025/10/19 17:26:49 WARNING mlflow.models.model: `artifact_path` is deprecated. Please use `name` instead.\n"
          ]
        },
        {
          "name": "stdout",
          "output_type": "stream",
          "text": [
            "\n",
            "=== Gradient_Boosting ===\n",
            "RMSE Train: 0.5045, Test: 0.5389\n",
            "MAE Train: 0.3514, Test: 0.3682\n",
            "R² Train: 0.8096, Test: 0.7784\n"
          ]
        }
      ],
      "source": [
        "print(\"\\n3. Entrenando Gradient Boosting Regressor...\")\n",
        "gb_model = GradientBoostingRegressor(n_estimators=100, random_state=42)\n",
        "gb_model, gb_metrics = train_and_log_model(\n",
        "    gb_model,\n",
        "    \"Gradient_Boosting\",\n",
        "    X_train, X_test, y_train, y_test,\n",
        "    n_estimators=100,\n",
        "    random_state=42\n",
        ")"
      ]
    },
    {
      "cell_type": "code",
      "execution_count": 23,
      "id": "cbd26cfc",
      "metadata": {
        "execution": {
          "iopub.execute_input": "2025-10-19T23:07:10.684423Z",
          "iopub.status.busy": "2025-10-19T23:07:10.683856Z",
          "iopub.status.idle": "2025-10-19T23:07:10.688887Z",
          "shell.execute_reply": "2025-10-19T23:07:10.688090Z"
        }
      },
      "outputs": [
        {
          "name": "stdout",
          "output_type": "stream",
          "text": [
            "Modelo               RMSE     MAE      R²      \n",
            "--------------------------------------------------\n",
            "Linear Regression    0.6745   0.4848   0.6528  \n",
            "Random Forest        0.5051   0.3287   0.8053  \n",
            "Gradient Boosting    0.5389   0.3682   0.7784  \n"
          ]
        }
      ],
      "source": [
        "print(f\"{'Modelo':<20} {'RMSE':<8} {'MAE':<8} {'R²':<8}\")\n",
        "print(\"-\" * 50)\n",
        "print(f\"{'Linear Regression':<20} {lr_metrics['rmse_test']:<8.4f} {lr_metrics['mae_test']:<8.4f} {lr_metrics['r2_test']:<8.4f}\")\n",
        "print(f\"{'Random Forest':<20} {rf_metrics['rmse_test']:<8.4f} {rf_metrics['mae_test']:<8.4f} {rf_metrics['r2_test']:<8.4f}\")\n",
        "print(f\"{'Gradient Boosting':<20} {gb_metrics['rmse_test']:<8.4f} {gb_metrics['mae_test']:<8.4f} {gb_metrics['r2_test']:<8.4f}\")"
      ]
    },
    {
      "cell_type": "code",
      "execution_count": 24,
      "id": "b960dd8b",
      "metadata": {
        "execution": {
          "iopub.execute_input": "2025-10-19T23:07:10.690667Z",
          "iopub.status.busy": "2025-10-19T23:07:10.690461Z",
          "iopub.status.idle": "2025-10-19T23:07:10.782627Z",
          "shell.execute_reply": "2025-10-19T23:07:10.781387Z"
        }
      },
      "outputs": [
        {
          "name": "stderr",
          "output_type": "stream",
          "text": [
            "Registered model 'california_housing_models_linear_regression' already exists. Creating a new version of this model...\n",
            "2025/10/19 17:26:51 WARNING mlflow.tracking._model_registry.fluent: Run with id 9f462bdd144b49e28061d1f933304984 has no artifacts at artifact path 'model', registering model based on models:/m-ef2316cac5f54221b9f07a98c7845bb1 instead\n"
          ]
        },
        {
          "name": "stderr",
          "output_type": "stream",
          "text": [
            "Created version '4' of model 'california_housing_models_linear_regression'.\n",
            "Registered model 'california_housing_models_random_forest' already exists. Creating a new version of this model...\n",
            "2025/10/19 17:26:51 WARNING mlflow.tracking._model_registry.fluent: Run with id 12d4c808701244dbb4f94eaf8e19f5d4 has no artifacts at artifact path 'model', registering model based on models:/m-810ca035e55248e7820d78317dfc182a instead\n"
          ]
        },
        {
          "name": "stdout",
          "output_type": "stream",
          "text": [
            "Registrando modelos en MLflow Model Registry...\n",
            "Run IDs encontrados:\n",
            "  Linear Regression: 9f462bdd144b49e28061d1f933304984\n",
            "  Random Forest: 12d4c808701244dbb4f94eaf8e19f5d4\n",
            "  Gradient Boosting: f38de3ad865542358a201f1deb80365a\n",
            "Linear Regression registrado como versión: 4\n",
            "Random Forest registrado como versión: 4\n"
          ]
        },
        {
          "name": "stderr",
          "output_type": "stream",
          "text": [
            "Created version '4' of model 'california_housing_models_random_forest'.\n",
            "Registered model 'california_housing_models_gradient_boosting' already exists. Creating a new version of this model...\n",
            "2025/10/19 17:26:51 WARNING mlflow.tracking._model_registry.fluent: Run with id f38de3ad865542358a201f1deb80365a has no artifacts at artifact path 'model', registering model based on models:/m-46d6ceace4954dbd889b4579d8355613 instead\n"
          ]
        },
        {
          "name": "stdout",
          "output_type": "stream",
          "text": [
            "Gradient Boosting registrado como versión: 4\n",
            "\n",
            "Todos los modelos han sido registrados exitosamente en el Model Registry!\n"
          ]
        },
        {
          "name": "stderr",
          "output_type": "stream",
          "text": [
            "Created version '4' of model 'california_housing_models_gradient_boosting'.\n"
          ]
        }
      ],
      "source": [
        "# Registrar modelos en MLflow Model Registry\n",
        "print(\"Registrando modelos en MLflow Model Registry...\")\n",
        "\n",
        "# Obtener el experimento actual\n",
        "experiment = mlflow.get_experiment_by_name(\"california-housing-prediction\")\n",
        "experiment_id = experiment.experiment_id\n",
        "\n",
        "# Buscar todos los runs del experimento\n",
        "runs = mlflow.search_runs(experiment_ids=[experiment_id])\n",
        "\n",
        "# Obtener los run IDs de cada modelo\n",
        "lr_run = runs[runs['tags.mlflow.runName'] == 'Linear_Regression'].iloc[0]\n",
        "rf_run = runs[runs['tags.mlflow.runName'] == 'Random_Forest'].iloc[0]\n",
        "gb_run = runs[runs['tags.mlflow.runName'] == 'Gradient_Boosting'].iloc[0]\n",
        "\n",
        "print(f\"Run IDs encontrados:\")\n",
        "print(f\"  Linear Regression: {lr_run['run_id']}\")\n",
        "print(f\"  Random Forest: {rf_run['run_id']}\")\n",
        "print(f\"  Gradient Boosting: {gb_run['run_id']}\")\n",
        "\n",
        "# Registrar modelos en el Model Registry\n",
        "model_registry_name = \"california_housing_models\"\n",
        "\n",
        "try:\n",
        "    # Registrar Linear Regression\n",
        "    lr_model_version = mlflow.register_model(\n",
        "        model_uri=f\"runs:/{lr_run['run_id']}/model\",\n",
        "        name=f\"{model_registry_name}_linear_regression\"\n",
        "    )\n",
        "    print(f\"Linear Regression registrado como versión: {lr_model_version.version}\")\n",
        "    \n",
        "    # Registrar Random Forest\n",
        "    rf_model_version = mlflow.register_model(\n",
        "        model_uri=f\"runs:/{rf_run['run_id']}/model\",\n",
        "        name=f\"{model_registry_name}_random_forest\"\n",
        "    )\n",
        "    print(f\"Random Forest registrado como versión: {rf_model_version.version}\")\n",
        "    \n",
        "    # Registrar Gradient Boosting\n",
        "    gb_model_version = mlflow.register_model(\n",
        "        model_uri=f\"runs:/{gb_run['run_id']}/model\",\n",
        "        name=f\"{model_registry_name}_gradient_boosting\"\n",
        "    )\n",
        "    print(f\"Gradient Boosting registrado como versión: {gb_model_version.version}\")\n",
        "    \n",
        "    print(\"\\nTodos los modelos han sido registrados exitosamente en el Model Registry!\")\n",
        "    \n",
        "except Exception as e:\n",
        "    print(f\"Error al registrar modelos: {e}\")\n"
      ]
    },
    {
      "cell_type": "code",
      "execution_count": null,
      "id": "a57fcd22",
      "metadata": {},
      "outputs": [
        {
          "name": "stdout",
          "output_type": "stream",
          "text": [
            "Configurando Feast Feature Store...\n",
            "FeatureStore inicializado correctamente\n"
          ]
        },
        {
          "name": "stderr",
          "output_type": "stream",
          "text": [
            "/home/hsilv/miniconda3/envs/mlops_lab03/lib/python3.9/site-packages/pydantic/_internal/_fields.py:192: UserWarning: Field name \"vector_enabled\" in \"SqliteOnlineStoreConfig\" shadows an attribute in parent \"VectorStoreConfig\"\n",
            "  warnings.warn(\n",
            "/home/hsilv/miniconda3/envs/mlops_lab03/lib/python3.9/site-packages/feast/repo_config.py:268: DeprecationWarning: The serialization version 2 and below will be deprecated in the next release. Specifying `entity_key_serialization_version` to 3 is recommended.\n",
            "  warnings.warn(\n"
          ]
        }
      ],
      "source": [
        "print(\"Configurando Feast Feature Store...\")\n",
        "\n",
        "from feast import FeatureStore\n",
        "store = FeatureStore(repo_path=\"./california_feature_store/feature_repo\")\n",
        "print(\"FeatureStore inicializado correctamente\")"
      ]
    },
    {
      "cell_type": "code",
      "execution_count": null,
      "id": "60b7be68",
      "metadata": {},
      "outputs": [
        {
          "name": "stdout",
          "output_type": "stream",
          "text": [
            "Features disponibles en el Feature Store:\n",
            "  - driver_hourly_stats_fresh\n",
            "    Entidades: ['driver']\n",
            "    Features: ['acc_rate', 'driver_id', 'avg_daily_trips', 'conv_rate']\n",
            "  - driver_hourly_stats\n",
            "    Entidades: ['driver']\n",
            "    Features: ['acc_rate', 'driver_id', 'avg_daily_trips', 'conv_rate']\n",
            "  - california_housing_features\n",
            "    Entidades: ['house']\n",
            "    Features: ['house_id', 'median_house_value', 'population', 'house_age', 'median_income', 'average_occupants', 'longitude', 'average_rooms', 'average_bedrooms', 'latitude']\n"
          ]
        }
      ],
      "source": [
        "print(\"Features disponibles en el Feature Store:\")\n",
        "feature_views = store.list_feature_views()\n",
        "for fv in feature_views:\n",
        "    print(f\"  - {fv.name}\")\n",
        "    print(f\"    Entidades: {fv.entities}\")\n",
        "    print(f\"    Features: {[field.name for field in fv.schema]}\")"
      ]
    },
    {
      "cell_type": "code",
      "execution_count": null,
      "id": "2b102faa",
      "metadata": {},
      "outputs": [],
      "source": [
        "def retrieve_features_from_feast(store, entity_ids, feature_names=None):\n",
        "    \"\"\"\n",
        "    Recuperar features desde Feast para un conjunto de entidades\n",
        "    \n",
        "    Args:\n",
        "        store: FeatureStore de Feast\n",
        "        entity_ids: Lista de house_id para los que queremos features\n",
        "        feature_names: Lista de features específicas (opcional)\n",
        "    \n",
        "    Returns:\n",
        "        DataFrame con las features recuperadas\n",
        "    \"\"\"\n",
        "    print(f\"Recuperando features para {len(entity_ids)} entidades...\")\n",
        "    \n",
        "    try:\n",
        "        entity_df = pd.DataFrame({\n",
        "            \"house_id\": entity_ids,\n",
        "            \"event_timestamp\": [pd.Timestamp.now()] * len(entity_ids)\n",
        "        })\n",
        "        \n",
        "        if feature_names is None:\n",
        "            feature_names = [\n",
        "                \"california_housing_features:median_income\",\n",
        "                \"california_housing_features:house_age\", \n",
        "                \"california_housing_features:average_rooms\",\n",
        "                \"california_housing_features:average_bedrooms\",\n",
        "                \"california_housing_features:population\",\n",
        "                \"california_housing_features:average_occupants\",\n",
        "                \"california_housing_features:latitude\",\n",
        "                \"california_housing_features:longitude\"\n",
        "            ]\n",
        "        \n",
        "        online_features = store.get_online_features(\n",
        "            features=feature_names,\n",
        "            entity_rows=entity_df.to_dict(\"records\")\n",
        "        ).to_df()\n",
        "        \n",
        "        print(f\"Features recuperadas - Online: {online_features.shape}\")\n",
        "        \n",
        "        return online_features\n",
        "        \n",
        "    except Exception as e:\n",
        "        print(f\"Error al recuperar features: {e}\")\n",
        "        return None"
      ]
    },
    {
      "cell_type": "code",
      "execution_count": null,
      "id": "99bcafa4",
      "metadata": {},
      "outputs": [],
      "source": [
        "def make_predictions_with_registry_model(features_df, model_name=\"california_housing_models_random_forest\"):\n",
        "    \"\"\"\n",
        "    Hacer predicciones usando un modelo del Model Registry\n",
        "    \n",
        "    Args:\n",
        "        features_df: DataFrame con las features\n",
        "        model_name: Nombre del modelo en el registry\n",
        "    \n",
        "    Returns:\n",
        "        Array con las predicciones\n",
        "    \"\"\"\n",
        "    print(f\"Cargando modelo desde Model Registry: {model_name}\")\n",
        "    \n",
        "    try:\n",
        "        model = mlflow.sklearn.load_model(f\"models:/{model_name}/1\")\n",
        "        print(f\"Modelo cargado: {type(model).__name__}\")\n",
        "        \n",
        "        feature_columns = [col for col in features_df.columns \n",
        "                          if col not in [\"house_id\", \"event_timestamp\", \"created\"]]\n",
        "        \n",
        "        X = features_df[feature_columns].copy()\n",
        "        \n",
        "        X[\"rooms_per_household\"] = X[\"average_rooms\"] / X[\"average_occupants\"]\n",
        "        X[\"population_per_household\"] = X[\"population\"] / X[\"average_bedrooms\"]  \n",
        "        X[\"bedrooms_per_room\"] = X[\"average_bedrooms\"] / X[\"average_rooms\"]\n",
        "        \n",
        "        column_mapping = {\n",
        "            \"median_income\": \"median_income\",\n",
        "            \"house_age\": \"house_age\",\n",
        "            \"average_rooms\": \"average_rooms\",\n",
        "            \"average_bedrooms\": \"AveBedrms\",\n",
        "            \"population\": \"Population\",\n",
        "            \"average_occupants\": \"average_occupants\",\n",
        "            \"latitude\": \"latitude\",\n",
        "            \"longitude\": \"longitude\",\n",
        "            \"rooms_per_household\": \"rooms_per_household\",\n",
        "            \"population_per_household\": \"population_per_household\",\n",
        "            \"bedrooms_per_room\": \"bedrooms_per_room\"\n",
        "        }\n",
        "        \n",
        "        X = X.rename(columns=column_mapping)\n",
        "        \n",
        "        expected_features = [\n",
        "            \"median_income\", \"house_age\", \"average_rooms\", \"AveBedrms\", \"Population\",\n",
        "            \"average_occupants\", \"latitude\", \"longitude\", \"rooms_per_household\",\n",
        "            \"population_per_household\", \"bedrooms_per_room\"\n",
        "        ]\n",
        "        \n",
        "        X = X[expected_features]\n",
        "        \n",
        "        predictions = model.predict(X)\n",
        "        \n",
        "        print(f\"Predicciones completadas: {len(predictions)} predicciones\")\n",
        "        print(f\"Rango: ${predictions.min():.2f} - ${predictions.max():.2f}, Promedio: ${predictions.mean():.2f}\")\n",
        "        \n",
        "        return predictions, feature_columns\n",
        "        \n",
        "    except Exception as e:\n",
        "        print(f\"Error al hacer predicciones: {e}\")\n",
        "        return None, None"
      ]
    },
    {
      "cell_type": "code",
      "execution_count": 31,
      "id": "ff28f764",
      "metadata": {},
      "outputs": [
        {
          "name": "stdout",
          "output_type": "stream",
          "text": [
            "Entidades seleccionadas para predicción: [0, 1, 2, 3, 4, 5, 6, 7, 8, 9]\n",
            "Recuperando features para 10 entidades...\n",
            "Features recuperadas - Online: (10, 9)\n",
            "\n",
            "Features recuperadas:\n",
            "   house_id  population  average_rooms  longitude  average_bedrooms  \\\n",
            "0         0       322.0       6.984127    -122.23          1.023810   \n",
            "1         1      2401.0       6.238137    -122.22          0.971880   \n",
            "2         2       496.0       8.288136    -122.24          1.073446   \n",
            "3         3       558.0       5.817352    -122.25          1.073059   \n",
            "4         4       565.0       6.281853    -122.25          1.081081   \n",
            "\n",
            "   house_age  average_occupants  median_income  latitude  \n",
            "0       41.0           2.555556         8.3252     37.88  \n",
            "1       21.0           2.109842         8.3014     37.86  \n",
            "2       52.0           2.802260         7.2574     37.85  \n",
            "3       52.0           2.547945         5.6431     37.85  \n",
            "4       52.0           2.181467         3.8462     37.85  \n",
            "Cargando modelo desde Model Registry: california_housing_models_random_forest\n"
          ]
        },
        {
          "name": "stderr",
          "output_type": "stream",
          "text": [
            "/home/hsilv/miniconda3/envs/mlops_lab03/lib/python3.9/site-packages/sklearn/base.py:380: InconsistentVersionWarning: Trying to unpickle estimator DecisionTreeRegressor from version 1.7.1 when using version 1.6.1. This might lead to breaking code or invalid results. Use at your own risk. For more info please refer to:\n",
            "https://scikit-learn.org/stable/model_persistence.html#security-maintainability-limitations\n",
            "  warnings.warn(\n"
          ]
        },
        {
          "name": "stdout",
          "output_type": "stream",
          "text": [
            "Modelo cargado: RandomForestRegressor\n",
            "Predicciones completadas: 10 predicciones\n",
            "Rango: $2.09 - $4.23, Promedio: $3.05\n",
            "\n",
            "Resultados de predicciones:\n",
            "   house_id  median_income  house_age  average_rooms  \\\n",
            "0         0         8.3252       41.0       6.984127   \n",
            "1         1         8.3014       21.0       6.238137   \n",
            "2         2         7.2574       52.0       8.288136   \n",
            "3         3         5.6431       52.0       5.817352   \n",
            "4         4         3.8462       52.0       6.281853   \n",
            "\n",
            "   predicted_house_value_usd  \n",
            "0                  423350.26  \n",
            "1                  389988.11  \n",
            "2                  385052.14  \n",
            "3                  329920.04  \n",
            "4                  311339.00  \n",
            "\n",
            "Estadísticas de predicciones:\n",
            "Promedio: $304,990.65\n",
            "Mediana: $287,083.00\n",
            "Mínimo: $209,160.00\n",
            "Máximo: $423,350.26\n"
          ]
        },
        {
          "name": "stderr",
          "output_type": "stream",
          "text": [
            "/home/hsilv/miniconda3/envs/mlops_lab03/lib/python3.9/site-packages/sklearn/base.py:380: InconsistentVersionWarning: Trying to unpickle estimator RandomForestRegressor from version 1.7.1 when using version 1.6.1. This might lead to breaking code or invalid results. Use at your own risk. For more info please refer to:\n",
            "https://scikit-learn.org/stable/model_persistence.html#security-maintainability-limitations\n",
            "  warnings.warn(\n"
          ]
        }
      ],
      "source": [
        "entity_ids = list(range(10))\n",
        "print(f\"Entidades seleccionadas para predicción: {entity_ids}\")\n",
        "\n",
        "features_df = retrieve_features_from_feast(store, entity_ids)\n",
        "\n",
        "if features_df is not None:\n",
        "    print(\"\\nFeatures recuperadas:\")\n",
        "    print(features_df.head())\n",
        "    \n",
        "    predictions, feature_columns = make_predictions_with_registry_model(features_df)\n",
        "    \n",
        "    if predictions is not None:\n",
        "        results_df = features_df[[\"house_id\"]].copy()\n",
        "        \n",
        "        for col in feature_columns:\n",
        "            results_df[col] = features_df[col]\n",
        "        \n",
        "        results_df[\"predicted_house_value\"] = predictions\n",
        "        results_df[\"predicted_house_value_usd\"] = predictions * 100000\n",
        "        \n",
        "        print(\"\\nResultados de predicciones:\")\n",
        "        print(results_df[[\"house_id\", \"median_income\", \"house_age\", \"average_rooms\", \n",
        "                         \"predicted_house_value_usd\"]].head())\n",
        "        \n",
        "        print(f\"\\nEstadísticas de predicciones:\")\n",
        "        print(f\"Promedio: ${results_df['predicted_house_value_usd'].mean():,.2f}\")\n",
        "        print(f\"Mediana: ${results_df['predicted_house_value_usd'].median():,.2f}\")\n",
        "        print(f\"Mínimo: ${results_df['predicted_house_value_usd'].min():,.2f}\")\n",
        "        print(f\"Máximo: ${results_df['predicted_house_value_usd'].max():,.2f}\")"
      ]
    }
  ],
  "metadata": {
    "kernelspec": {
      "display_name": "mlops_lab03",
      "language": "python",
      "name": "python3"
    },
    "language_info": {
      "codemirror_mode": {
        "name": "ipython",
        "version": 3
      },
      "file_extension": ".py",
      "mimetype": "text/x-python",
      "name": "python",
      "nbconvert_exporter": "python",
      "pygments_lexer": "ipython3",
      "version": "3.13.5"
    }
  },
  "nbformat": 4,
  "nbformat_minor": 5
}
